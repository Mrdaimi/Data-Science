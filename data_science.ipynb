{
  "nbformat": 4,
  "nbformat_minor": 0,
  "metadata": {
    "colab": {
      "name": "data science.ipynb",
      "provenance": [],
      "collapsed_sections": [
        "X6Kyo9cc4dw2"
      ],
      "toc_visible": true,
      "authorship_tag": "ABX9TyN2anDP29aBE/TzedXFzbw6",
      "include_colab_link": true
    },
    "kernelspec": {
      "name": "python3",
      "display_name": "Python 3"
    },
    "language_info": {
      "name": "python"
    }
  },
  "cells": [
    {
      "cell_type": "markdown",
      "metadata": {
        "id": "view-in-github",
        "colab_type": "text"
      },
      "source": [
        "<a href=\"https://colab.research.google.com/github/Mrdaimi/Data-Science/blob/main/data_science.ipynb\" target=\"_parent\"><img src=\"https://colab.research.google.com/assets/colab-badge.svg\" alt=\"Open In Colab\"/></a>"
      ]
    },
    {
      "cell_type": "markdown",
      "source": [
        "# numpy的入门"
      ],
      "metadata": {
        "id": "X6Kyo9cc4dw2"
      }
    },
    {
      "cell_type": "markdown",
      "source": [
        "1，数组创建"
      ],
      "metadata": {
        "id": "58as6Vkcc36h"
      }
    },
    {
      "cell_type": "code",
      "execution_count": null,
      "metadata": {
        "id": "ASxeS0liVB3a"
      },
      "outputs": [],
      "source": [
        "import numpy as np\n",
        "# 可以指定dtype，也可以不指定,如果元素类型不同，会向上转化(例如整型转为浮点型)，转化失败则报错\n",
        "np.array([1,2,3],dtype='float32')\n",
        "# 嵌套列表组成多维数组 二维数组在处理的时候可以看成矩阵\n",
        "np.array([range(i,i+3) for i in [2,4,6]])\n",
        "# numpy内置的创建数组的方法(对于大型数组比之python自带的数组更高效)\n",
        "# 元素都为0的数组\n",
        "np.zeros(10,dtype=int)\n",
        "# 元素都为1的数组 \n",
        "np.ones((3,5),dtype=float)\n",
        "# 元素都为指定数值的数组\n",
        "np.full((3,4,5),3.15,int)\n",
        "# 符合arange的一维数组\n",
        "np.arange(0,20,2)\n",
        "# 线性切割的一维数组\n",
        "np.linspace(0,1,5)\n",
        "# 0-1均匀分布的数组\n",
        "np.random.random((3,3))\n",
        "# 均值为0，方差为1的正态分布\n",
        "np.random.normal(0,1,(3,3))\n",
        "# [0,10)的随机整数数组\n",
        "np.random.randint(0,10,(3,3))\n",
        "# 单位矩阵\n",
        "np.eye(4)\n",
        "# 空的一维数组\n",
        "np.empty(3)"
      ]
    },
    {
      "cell_type": "markdown",
      "source": [
        "2，数组的属性(大小即元素个数，形状，存储大小，数据类型)"
      ],
      "metadata": {
        "id": "C9dDMCIkdBx8"
      }
    },
    {
      "cell_type": "code",
      "source": [
        "# 设置随机种子\n",
        "np.random.seed(0)\n",
        "x1=np.random.randint(10,size=(2,3,4))\n",
        "# 数组的形状\n",
        "print(x1.shape)\n",
        "# 数组的元素个数\n",
        "print(x1.size)\n",
        "# 数组的维度\n",
        "print(x1.ndim)\n",
        "# 数组的元素类型\n",
        "print(x1.dtype)\n",
        "# 数组的单个元素占用内存大小(注意单位为字节哦)\n",
        "print(x1.itemsize)\n",
        "# 数组的总体占用内存大小(注意单位为字节哦)\n",
        "print(x1.nbytes)"
      ],
      "metadata": {
        "id": "Joe7H4eVdRub",
        "colab": {
          "base_uri": "https://localhost:8080/"
        },
        "outputId": "afbdb3cc-6704-419e-e753-c6e1a83b1b89"
      },
      "execution_count": null,
      "outputs": [
        {
          "output_type": "stream",
          "name": "stdout",
          "text": [
            "(2, 3, 4)\n",
            "24\n",
            "3\n",
            "int64\n",
            "8\n",
            "192\n"
          ]
        }
      ]
    },
    {
      "cell_type": "markdown",
      "source": [
        "3，数组的索引\n"
      ],
      "metadata": {
        "id": "ahk5f6jpj2FK"
      }
    },
    {
      "cell_type": "code",
      "source": [
        "# 根据索引读取数据(全部或部分)\n",
        "print(x1[0:2,0:2,0:2])\n",
        "# 根据索引修改数据(全部或部分)\n",
        "x1[0:2,0:2,0:2]=3\n",
        "print(x1)"
      ],
      "metadata": {
        "id": "i-isKXezj8O-",
        "colab": {
          "base_uri": "https://localhost:8080/"
        },
        "outputId": "edca30fa-2e98-48bb-e589-3aaf5a19e25c"
      },
      "execution_count": null,
      "outputs": [
        {
          "output_type": "stream",
          "name": "stdout",
          "text": [
            "[[[5 0]\n",
            "  [7 9]]\n",
            "\n",
            " [[8 8]\n",
            "  [7 7]]]\n",
            "[[[3 3 3 3]\n",
            "  [3 3 3 5]\n",
            "  [2 4 7 6]]\n",
            "\n",
            " [[3 3 1 6]\n",
            "  [3 3 8 1]\n",
            "  [5 9 8 9]]]\n"
          ]
        }
      ]
    },
    {
      "cell_type": "markdown",
      "source": [
        "4，数组的变形"
      ],
      "metadata": {
        "id": "h6rpbXppnn0g"
      }
    },
    {
      "cell_type": "code",
      "source": [
        "grid=np.arange(1,10).reshape(3,3)\n",
        "print(grid)\n",
        "print(grid.reshape(1,9))\n",
        "print(grid)"
      ],
      "metadata": {
        "colab": {
          "base_uri": "https://localhost:8080/"
        },
        "id": "dbTK4PsynsHy",
        "outputId": "7565e4b3-c2dc-4c11-d3ba-01bcddc2fa1e"
      },
      "execution_count": null,
      "outputs": [
        {
          "output_type": "stream",
          "name": "stdout",
          "text": [
            "[[1 2 3]\n",
            " [4 5 6]\n",
            " [7 8 9]]\n",
            "[[1 2 3 4 5 6 7 8 9]]\n",
            "[[1 2 3]\n",
            " [4 5 6]\n",
            " [7 8 9]]\n"
          ]
        }
      ]
    },
    {
      "cell_type": "markdown",
      "source": [
        "5,数组的拼接和分裂"
      ],
      "metadata": {
        "id": "mk6GCbnjpphr"
      }
    },
    {
      "cell_type": "code",
      "source": [
        "# 拼接\n",
        "x=np.arange(1,10).reshape(3,3)\n",
        "y=np.random.randint(20,size=(3,3))\n",
        "z=np.random.randint(20,size=(3,3))\n",
        "# axis表示拼接的维度\n",
        "print(np.concatenate([x,y,z],axis=1))\n",
        "\n",
        "# 分裂 axis表示分裂的维度\n",
        "print(np.split(x,[0,1],axis=1))"
      ],
      "metadata": {
        "id": "XPgHG-r_puaU",
        "colab": {
          "base_uri": "https://localhost:8080/"
        },
        "outputId": "1f29d3ea-330c-40b7-9a36-888f973fd7c4"
      },
      "execution_count": null,
      "outputs": [
        {
          "output_type": "stream",
          "name": "stdout",
          "text": [
            "[[ 1  2  3 19 16 19 17 19 19]\n",
            " [ 4  5  6  5 15 15 19 14  7]\n",
            " [ 7  8  9  0 18  3  0  1  9]]\n",
            "[array([], shape=(3, 0), dtype=int64), array([[1],\n",
            "       [4],\n",
            "       [7]]), array([[2, 3],\n",
            "       [5, 6],\n",
            "       [8, 9]])]\n"
          ]
        }
      ]
    },
    {
      "cell_type": "markdown",
      "source": [
        "6，数组的聚合"
      ],
      "metadata": {
        "id": "846YmqBlnWjW"
      }
    },
    {
      "cell_type": "code",
      "source": [
        "import numpy as np\n",
        "bigarr=np.random.rand(1000000).reshape(10,100000)\n",
        "%timeit sum(bigarr)\n",
        "%timeit np.sum(bigarr)"
      ],
      "metadata": {
        "colab": {
          "base_uri": "https://localhost:8080/"
        },
        "id": "9F_fVp_6naEQ",
        "outputId": "86b38aa1-1a0a-4689-c16b-6f639a9ef17c"
      },
      "execution_count": null,
      "outputs": [
        {
          "output_type": "stream",
          "name": "stdout",
          "text": [
            "The slowest run took 4.70 times longer than the fastest. This could mean that an intermediate result is being cached.\n",
            "1000 loops, best of 5: 868 µs per loop\n",
            "1000 loops, best of 5: 406 µs per loop\n"
          ]
        }
      ]
    },
    {
      "cell_type": "markdown",
      "source": [
        "# pandas的入门"
      ],
      "metadata": {
        "id": "mvBtVHCdv9Kn"
      }
    },
    {
      "cell_type": "code",
      "source": [
        ""
      ],
      "metadata": {
        "id": "BXUWKou0wArV"
      },
      "execution_count": null,
      "outputs": []
    },
    {
      "cell_type": "markdown",
      "source": [
        "# matplotlib的入门"
      ],
      "metadata": {
        "id": "2urxHZSU4n0u"
      }
    },
    {
      "cell_type": "markdown",
      "source": [
        "1，简单演示"
      ],
      "metadata": {
        "id": "lqP8djLEAy1v"
      }
    },
    {
      "cell_type": "code",
      "source": [
        "import matplotlib as mpl\n",
        "import matplotlib.pyplot as plt\n",
        "# !jupyter --version 查看colab自带的环境及版本\n",
        "# mpl.__version__ 查看colab自己下载的库及版本\n",
        "\n",
        "# 设置绘图格式\n",
        "plt.style.use('classic')\n",
        "\n",
        "x=np.linspace(0,2,100)\n",
        "# plot里面的参数顺序表示x轴和y轴\n",
        "plt.plot(x,np.sin(x))\n",
        "plt.plot(x,np.cos(x))"
      ],
      "metadata": {
        "id": "NyxGgL0c4sU0"
      },
      "execution_count": null,
      "outputs": []
    },
    {
      "cell_type": "markdown",
      "source": [
        "2，两种风格画图"
      ],
      "metadata": {
        "id": "201ZPiT6A3lH"
      }
    },
    {
      "cell_type": "code",
      "source": [
        "# plt.figure()不用也没关系\n",
        "# subplot表示布局前两个参数表示行和列，即子图的排列(显然子图的数量必须等于两者相乘)，最后一个参数是序号(从第一行开始排)\n",
        "\n",
        "# matlab风格\n",
        "plt.subplot(2,2,1)\n",
        "plt.plot(x,np.sin(x))\n",
        "plt.subplot(2,2,2)\n",
        "plt.plot(x,np.cos(x))\n",
        "plt.subplot(2,2,3)\n",
        "plt.plot(x,np.tan(x))\n",
        "plt.subplot(2,2,4)\n",
        "plt.plot(x,np.arctan(x))\n",
        "\n",
        "# 面向对象风格(感觉代码更简洁)\n",
        "# subplots里面的参数表示图像的个数，默认使用竖向排列\n",
        "fig,ax=plt.subplots(2)\n",
        "ax[0].plot(x,np.sin(x))\n",
        "ax[1].plot(x,np.cos(x))"
      ],
      "metadata": {
        "id": "ZtW0iWKZA8c_",
        "colab": {
          "base_uri": "https://localhost:8080/",
          "height": 246
        },
        "outputId": "bd121f56-1370-4e0e-8682-ea5f0cbfc3bd"
      },
      "execution_count": null,
      "outputs": [
        {
          "output_type": "error",
          "ename": "NameError",
          "evalue": "ignored",
          "traceback": [
            "\u001b[0;31m---------------------------------------------------------------------------\u001b[0m",
            "\u001b[0;31mNameError\u001b[0m                                 Traceback (most recent call last)",
            "\u001b[0;32m<ipython-input-7-98b96c91461c>\u001b[0m in \u001b[0;36m<module>\u001b[0;34m()\u001b[0m\n\u001b[1;32m      3\u001b[0m \u001b[0;34m\u001b[0m\u001b[0m\n\u001b[1;32m      4\u001b[0m \u001b[0;31m# matlab风格\u001b[0m\u001b[0;34m\u001b[0m\u001b[0;34m\u001b[0m\u001b[0;34m\u001b[0m\u001b[0m\n\u001b[0;32m----> 5\u001b[0;31m \u001b[0mplt\u001b[0m\u001b[0;34m.\u001b[0m\u001b[0msubplot\u001b[0m\u001b[0;34m(\u001b[0m\u001b[0;36m2\u001b[0m\u001b[0;34m,\u001b[0m\u001b[0;36m2\u001b[0m\u001b[0;34m,\u001b[0m\u001b[0;36m1\u001b[0m\u001b[0;34m)\u001b[0m\u001b[0;34m\u001b[0m\u001b[0;34m\u001b[0m\u001b[0m\n\u001b[0m\u001b[1;32m      6\u001b[0m \u001b[0mplt\u001b[0m\u001b[0;34m.\u001b[0m\u001b[0mplot\u001b[0m\u001b[0;34m(\u001b[0m\u001b[0mx\u001b[0m\u001b[0;34m,\u001b[0m\u001b[0mnp\u001b[0m\u001b[0;34m.\u001b[0m\u001b[0msin\u001b[0m\u001b[0;34m(\u001b[0m\u001b[0mx\u001b[0m\u001b[0;34m)\u001b[0m\u001b[0;34m)\u001b[0m\u001b[0;34m\u001b[0m\u001b[0;34m\u001b[0m\u001b[0m\n\u001b[1;32m      7\u001b[0m \u001b[0mplt\u001b[0m\u001b[0;34m.\u001b[0m\u001b[0msubplot\u001b[0m\u001b[0;34m(\u001b[0m\u001b[0;36m2\u001b[0m\u001b[0;34m,\u001b[0m\u001b[0;36m2\u001b[0m\u001b[0;34m,\u001b[0m\u001b[0;36m2\u001b[0m\u001b[0;34m)\u001b[0m\u001b[0;34m\u001b[0m\u001b[0;34m\u001b[0m\u001b[0m\n",
            "\u001b[0;31mNameError\u001b[0m: name 'plt' is not defined"
          ]
        }
      ]
    },
    {
      "cell_type": "markdown",
      "source": [
        "3，折线图"
      ],
      "metadata": {
        "id": "IZ2aF22-JS3U"
      }
    },
    {
      "cell_type": "code",
      "source": [
        "# 画出一元线性函数的图像\n",
        "plt.style.use(\"seaborn-whitegrid\")\n",
        "ax=plt.axes()\n",
        "y=np.linspace(0,10,1000)\n",
        "# 同一个ax表示同一个表,plot里面的前两个参数表示一元函数关系，color表示线的颜色，linestyle表示线样式\n",
        "ax.plot(x,x,color='#4e6ef2',linestyle='-',label='x')\n",
        "ax.plot(x,x+1,color='#4e6ef2',linestyle='--',label='x+1')\n",
        "ax.plot(x,x+2,color='#4e6ef2',linestyle='-.',label='x+2')\n",
        "ax.plot(x,x+3,color='#4e6ef2',linestyle=':',label='x+3')\n",
        "# 设置坐标轴上下限\n",
        "# a,使用xlim和ylim\n",
        "plt.xlim(0,1.5)\n",
        "plt.ylim(0,4)\n",
        "# b,使用axis\n",
        "plt.axis([0,1,0,2])\n",
        "\n",
        "# plt.axis的其他用法(只能选一种)\n",
        "# 收缩坐标轴,不留空白区域\n",
        "plt.axis('tight')\n",
        "# 图像的分辨率为1:1\n",
        "plt.axis('equal')\n",
        "\n",
        "# 设置图形标签\n",
        "plt.title('my firt form')\n",
        "plt.xlabel('x')\n",
        "plt.ylabel('y')\n",
        "ax.legend()"
      ],
      "metadata": {
        "id": "KwE5lDHMJVog"
      },
      "execution_count": null,
      "outputs": []
    },
    {
      "cell_type": "markdown",
      "source": [
        "4,散点图"
      ],
      "metadata": {
        "id": "rKfLHtXkS0PD"
      }
    },
    {
      "cell_type": "code",
      "source": [
        "# # 使用plt.plot画散点图\n",
        "# # 第一张图：散点图\n",
        "# x=np.linspace(0,10,30)\n",
        "# y=np.sin(x)\n",
        "# plt.plot(x,y,'o',color='#000000')\n",
        "# # plt.show()\n",
        "\n",
        "# # 第二张图：散点图\n",
        "# rng=np.random.RandomState(0)\n",
        "# for marker in ['o','.',',','x','+','v','^','<','>','s','d']:\n",
        "#   plt.plot(rng.rand(5),rng.rand(5),marker,label='marker={0}'.format(marker))\n",
        "# plt.legend(numpoints=1)\n",
        "# plt.xlim(0,1.8)\n",
        "# # plt.show()\n",
        "\n",
        "# # 第三张图：散点折线图 -p表示图标的类型\n",
        "# plt.plot(x,y,'-p',color='gray')\n",
        "# # plt.show()\n",
        "\n",
        "# # 使用plt.scatter画散点图 可以更加灵活的控制每一个点\n",
        "\n",
        "# # 第一张图\n",
        "# colors=rng.rand(100)\n",
        "# # s表示圆圈大小(单位为px)，c表示点的颜色,alpha表示颜色的透明度\n",
        "# plt.scatter(rng.randn(100),rng.randn(100),c=rng.rand(100),s=1000*rng.rand(100),alpha=0.3,cmap='viridis')\n",
        "# # 显示颜色条\n",
        "# plt.colorbar()\n",
        "\n",
        "# 第二张图\n",
        "from sklearn.datasets import load_iris\n",
        "iris=load_iris()\n",
        "# T表示对data数组进行转置\n",
        "features=iris.data.T\n",
        "plt.scatter(features[0],features[1],c=iris.target,cmap='viridis',s=100,alpha=0.2)\n",
        "plt.xlabel(iris.feature_names[0])\n",
        "plt.ylabel(iris.feature_names[1])"
      ],
      "metadata": {
        "id": "1C1EyjV0S2jd"
      },
      "execution_count": null,
      "outputs": []
    },
    {
      "cell_type": "markdown",
      "source": [
        "5，误差可视化"
      ],
      "metadata": {
        "id": "Lg1QrP88mjHX"
      }
    },
    {
      "cell_type": "code",
      "source": [
        "# 离散误差\n",
        "x=np.linspace(0,10,50)\n",
        "y=np.sin(x)+0.8*np.random.randn(50)\n",
        "# yerr表示每个点的误差范围  fmt表示点的格式\n",
        "plt.errorbar(x,y,yerr=0.8,fmt='.k')\n",
        "plt.errorbar(x,y,yerr=0.8,fmt='o',color='#000000',ecolor='lightgray',elinewidth=3,capsize=0)\n",
        "\n",
        "# 连续误差\n",
        "# 暂时不搞，因为对高斯过程回归方法不清楚"
      ],
      "metadata": {
        "id": "OVWx8811mvWw"
      },
      "execution_count": null,
      "outputs": []
    },
    {
      "cell_type": "markdown",
      "source": [
        "6，配置图例"
      ],
      "metadata": {
        "id": "O0-9_bmjsZHL"
      }
    },
    {
      "cell_type": "code",
      "source": [
        "plt.style.use('classic')\n",
        "x=np.linspace(0,10,1000)\n",
        "fig,ax=plt.subplots()\n",
        "ax.plot(x,np.sin(x),'-b',label='Sin')\n",
        "ax.plot(x,np.cos(x),'--r',label='Cos')\n",
        "ax.axis('equal')\n",
        "# 图例显示必须使用legend\n",
        "leg=ax.legend(loc='upper left',frameon=False)\n",
        "leg=ax.legend(loc='lower center',ncol=2,frameon=False)\n"
      ],
      "metadata": {
        "colab": {
          "base_uri": "https://localhost:8080/",
          "height": 434
        },
        "id": "ikNte3z5scCK",
        "outputId": "6e292855-4fab-4a7f-cbe2-444e32532b18"
      },
      "execution_count": null,
      "outputs": [
        {
          "output_type": "display_data",
          "data": {
            "text/plain": [
              "<Figure size 640x480 with 1 Axes>"
            ],
            "image/png": "[encoded data removed]"
          },
          "metadata": {}
        }
      ]
    }
  ]
}